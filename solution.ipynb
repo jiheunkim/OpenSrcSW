{
 "cells": [
  {
   "cell_type": "code",
   "execution_count": 49,
   "id": "1344241f",
   "metadata": {},
   "outputs": [
    {
     "ename": "TypeError",
     "evalue": "show() takes 0 positional arguments but 1 was given",
     "output_type": "error",
     "traceback": [
      "\u001b[1;31m---------------------------------------------------------------------------\u001b[0m",
      "\u001b[1;31mTypeError\u001b[0m                                 Traceback (most recent call last)",
      "\u001b[1;32m<ipython-input-49-3a14e504a8a0>\u001b[0m in \u001b[0;36m<module>\u001b[1;34m\u001b[0m\n\u001b[0;32m     14\u001b[0m \u001b[1;33m\u001b[0m\u001b[0m\n\u001b[0;32m     15\u001b[0m \u001b[0ma\u001b[0m \u001b[1;33m=\u001b[0m \u001b[0mPoint\u001b[0m\u001b[1;33m(\u001b[0m\u001b[1;36m1\u001b[0m\u001b[1;33m,\u001b[0m\u001b[1;36m2\u001b[0m\u001b[1;33m)\u001b[0m\u001b[1;33m\u001b[0m\u001b[1;33m\u001b[0m\u001b[0m\n\u001b[1;32m---> 16\u001b[1;33m \u001b[0ma\u001b[0m\u001b[1;33m.\u001b[0m\u001b[0mshow\u001b[0m\u001b[1;33m(\u001b[0m\u001b[1;33m)\u001b[0m\u001b[1;33m\u001b[0m\u001b[1;33m\u001b[0m\u001b[0m\n\u001b[0m\u001b[0;32m     17\u001b[0m \u001b[1;33m\u001b[0m\u001b[0m\n\u001b[0;32m     18\u001b[0m \u001b[0mb\u001b[0m \u001b[1;33m=\u001b[0m \u001b[0mPoint\u001b[0m\u001b[1;33m(\u001b[0m\u001b[1;36m3\u001b[0m\u001b[1;33m,\u001b[0m\u001b[1;36m4\u001b[0m\u001b[1;33m)\u001b[0m\u001b[1;33m\u001b[0m\u001b[1;33m\u001b[0m\u001b[0m\n",
      "\u001b[1;31mTypeError\u001b[0m: show() takes 0 positional arguments but 1 was given"
     ]
    }
   ],
   "source": [
    "class Point:\n",
    "    point = 0\n",
    "    x = 0\n",
    "    y = 0\n",
    "    def Point(x,y):\n",
    "        self.x = x\n",
    "        self.y = y\n",
    "    \n",
    "    def __init__(self, x, y):\n",
    "        self.point = self.x + self.y\n",
    "        \n",
    "    def show():\n",
    "        return '('+self.x+','+self.y+')'\n",
    "\n",
    "a = Point(1,2)\n",
    "a.show()\n",
    "\n",
    "b = Point(3,4)\n",
    "b.show()\n",
    "\n",
    "a = a+b\n",
    "a.show()"
   ]
  },
  {
   "cell_type": "code",
   "execution_count": 30,
   "id": "6e80c359",
   "metadata": {},
   "outputs": [
    {
     "name": "stdout",
     "output_type": "stream",
     "text": [
      "Max Week =  05/08 ~ 05/14\n"
     ]
    }
   ],
   "source": [
    "import csv\n",
    "\n",
    "f = open('seoul.csv', 'r', encoding = 'cp949')\n",
    "data = csv.reader(f)\n",
    "header = next(data)\n",
    "max_week = -999\n",
    "week_range = 0\n",
    "max_data = ''\n",
    "daily_max = -999\n",
    "firstdate = ''\n",
    "i = 0\n",
    "\n",
    "for row in data:\n",
    "    if week_range == 0:\n",
    "        firstdate = row[0].split('-')[1]+'/'+row[0].split('-')[2]\n",
    "    week_range += float(row[-1])-float(row[-2])\n",
    "\n",
    "    if row[0].split('-')[2] == '07':\n",
    "        max_week = week_range\n",
    "        max_data = firstdate+' ~ '+row[0].split('-')[1]+'/'+row[0].split('-')[2]\n",
    "        firstdate = ''\n",
    "        week_range = 0\n",
    "    if row[0].split('-')[2] == '14':\n",
    "        if max_week < week_range:\n",
    "            max_week = week_range\n",
    "            max_data = firstdate+' ~ '+row[0].split('-')[1]+'/'+row[0].split('-')[2]\n",
    "        firstdate = ''\n",
    "        week_range = 0\n",
    "    if row[0].split('-')[2] == '21':\n",
    "        if max_week < week_range:\n",
    "            max_week = week_range\n",
    "            max_data = firstdate+' ~ '+row[0].split('-')[1]+'/'+row[0].split('-')[2]\n",
    "        firstdate = ''\n",
    "        week_range = 0\n",
    "    if row[0].split('-')[2] == '28':\n",
    "        if max_week < week_range:\n",
    "            max_week = week_range\n",
    "            max_data = firstdate+' ~ '+row[0].split('-')[1]+'/'+row[0].split('-')[2]\n",
    "        firstdate = ''\n",
    "        week_range = 0\n",
    "    if row[0].split('-')[2] == '31':\n",
    "        if max_week < week_range:\n",
    "            max_week = week_range\n",
    "            max_data = firstdate+' ~ '+row[0].split('-')[1]+'/'+row[0].split('-')[2]\n",
    "        firstdate = ''\n",
    "        week_range = 0\n",
    "\n",
    "f.close()\n",
    "print(\"Max Week = \",max_data)\n",
    "        "
   ]
  },
  {
   "cell_type": "code",
   "execution_count": null,
   "id": "edcef6e2",
   "metadata": {},
   "outputs": [],
   "source": [
    "import numpy as np\n",
    "import matplotlib.pyplot as plt\n",
    "#각 엘리먼트들 곱해서 다 더하면 그게 내접\n",
    "\n",
    "Docs = np.array([[1, 1, 0, 1, 0, 1],\n",
    "                [1, 1, 1, 0, 1, 0],\n",
    "                [1, 1, 0, 1, 0, 0]])\n",
    "Query = np.array([1, 1, 0, 0, 1, 0])\n",
    "\n"
   ]
  }
 ],
 "metadata": {
  "kernelspec": {
   "display_name": "Python 3",
   "language": "python",
   "name": "python3"
  },
  "language_info": {
   "codemirror_mode": {
    "name": "ipython",
    "version": 3
   },
   "file_extension": ".py",
   "mimetype": "text/x-python",
   "name": "python",
   "nbconvert_exporter": "python",
   "pygments_lexer": "ipython3",
   "version": "3.8.8"
  }
 },
 "nbformat": 4,
 "nbformat_minor": 5
}
