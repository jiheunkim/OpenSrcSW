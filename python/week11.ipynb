{
 "cells": [
  {
   "cell_type": "code",
   "execution_count": 25,
   "id": "eacb9f32",
   "metadata": {},
   "outputs": [
    {
     "name": "stdout",
     "output_type": "stream",
     "text": [
      "cp file1 file2\n",
      "1 line.\n",
      "\n",
      "2 line.\n",
      "\n",
      "3 line.\n",
      "\n",
      "4 line.\n",
      "\n",
      "5 line.\n",
      "\n",
      "6 line.\n",
      "\n",
      "7 line.\n",
      "\n",
      "8 line.\n",
      "\n",
      "9 line.\n",
      "\n",
      "10 line.\n",
      "\n"
     ]
    }
   ],
   "source": [
    "#실습6: copy\n",
    "def main():\n",
    "    userinput = input()\n",
    "    user = userinput.split()\n",
    "    if user[0]=='cp':\n",
    "        user[1] = user[1] + '.txt'\n",
    "        user[2] = user[2] + '.txt'\n",
    "        copy(user[1],user[2])\n",
    "    \n",
    "def copy(file1,file2):\n",
    "    f1 = open(file1,'r')\n",
    "    f2 = open(file2,'w')\n",
    "    \n",
    "    for line in f1:\n",
    "        print(line)\n",
    "        f2.write(line)\n",
    "    \n",
    "    f1.close\n",
    "    f2.close\n",
    "    \n",
    "f = open('file1.txt','w')\n",
    "for i in range(1,11):\n",
    "    data = \"{0:d} line.\\n\".format(i)\n",
    "    f.write(data)\n",
    "f.close\n",
    "\n",
    "main()"
   ]
  },
  {
   "cell_type": "code",
   "execution_count": 27,
   "id": "1afcd9ab",
   "metadata": {},
   "outputs": [
    {
     "name": "stdout",
     "output_type": "stream",
     "text": [
      "wc file1\n",
      "#of lines:  10\n",
      "#of words:  20\n"
     ]
    }
   ],
   "source": [
    "#실습7: wc\n",
    "def main():\n",
    "    userinput = input()\n",
    "    user = userinput.split()\n",
    "    if user[0]=='wc':\n",
    "        user[1] = user[1] + '.txt'\n",
    "        wc(user[1])\n",
    "\n",
    "def wc(fname):\n",
    "    f = open(fname,'r')\n",
    "    i = 0\n",
    "    num = 0\n",
    "    \n",
    "    for line in f:\n",
    "        i += 1\n",
    "        words = line.split()\n",
    "        for word in words:\n",
    "            num += 1\n",
    "    f.close\n",
    "    \n",
    "    print(\"#of lines: \",i)\n",
    "    print(\"#of words: \",num)\n",
    "    \n",
    "main()\n",
    "    "
   ]
  },
  {
   "cell_type": "code",
   "execution_count": 15,
   "id": "bf11251a",
   "metadata": {},
   "outputs": [
    {
     "name": "stdout",
     "output_type": "stream",
     "text": [
      "1 + 2 = 3 입니다.\n",
      "5 - 1 = 4 입니다.\n",
      "2 * 3 = 6 입니다.\n",
      "6 / 2 = 3.0 입니다.\n"
     ]
    }
   ],
   "source": [
    "#실습8: 사칙 연산 클래스\n",
    "# -*- coding: cp949 -*-\n",
    "class Calc:\n",
    "    def sum(self, a, b):\n",
    "        result = a + b\n",
    "        print(\"{0:d} + {1:d} = {2:d} 입니다.\".format(a, b, result))\n",
    "    def sub(self, a, b):\n",
    "        result = a - b\n",
    "        print(\"{0:d} - {1:d} = {2:d} 입니다.\".format(a, b, result))\n",
    "    def multi(self, a, b):\n",
    "        result = a * b\n",
    "        print(\"{0:d} * {1:d} = {2:d} 입니다.\".format(a, b, result))\n",
    "    def divi(self, a, b):\n",
    "        result = a / b\n",
    "        print(\"{0:d} / {1:d} = {2:.1f} 입니다.\".format(a, b, result))\n",
    "        \n",
    "calc = Calc()\n",
    "calc.sum(1,2)\n",
    "calc.sub(5,1)\n",
    "calc.multi(2,3)\n",
    "calc.divi(6,2)"
   ]
  },
  {
   "cell_type": "code",
   "execution_count": 13,
   "id": "b7b6c638",
   "metadata": {},
   "outputs": [
    {
     "name": "stdout",
     "output_type": "stream",
     "text": [
      "계산식 입력: 1 + 2 - 3 * 4 + 5\n",
      "계산식 출력: 1+2-3*4+5=-4\n"
     ]
    }
   ],
   "source": [
    "#실습9: 계산기\n",
    "class Stack:\n",
    "    def __init__(self):\n",
    "        self.top = []\n",
    "        \n",
    "    def push(self,item):\n",
    "        self.top.append(item)\n",
    "        \n",
    "    def pop(self):\n",
    "        if not self.isEmpty():\n",
    "            return self.top.pop(-1)\n",
    "        else:\n",
    "            print(\"Empty\")\n",
    "            exit()\n",
    "            \n",
    "    def front(self):\n",
    "        if not self.isEmpty():\n",
    "            return self.top[-1]\n",
    "        else:\n",
    "            print(\"Empty\")\n",
    "            exit()\n",
    "            \n",
    "    def isEmpty(self):\n",
    "        if len(self.top)==0:\n",
    "            return True\n",
    "    \n",
    "def calculate(num1,num2,OP):\n",
    "    if OP=='+':\n",
    "        return num1+num2\n",
    "    elif OP=='-':\n",
    "        return num1-num2\n",
    "    elif OP=='*':\n",
    "        return num1*num2\n",
    "    elif OP=='/':\n",
    "        return num1/num2\n",
    "    \n",
    "if __name__ == \"__main__\":\n",
    "    userinput = input(\"계산식 입력: \")\n",
    "    user = userinput.split()\n",
    "    OP = Stack()\n",
    "    NUM = Stack()\n",
    "    \n",
    "    for i in user:\n",
    "        if i=='+' or i=='-' or i=='*' or i=='/':\n",
    "            OP.push(i)\n",
    "        else:\n",
    "            if OP.isEmpty():\n",
    "                NUM.push(int(i))\n",
    "            elif OP.front()=='*' or OP.front()=='/':\n",
    "                num1 = NUM.pop()\n",
    "                num2 = int(i)\n",
    "                NUM.push(calculate(num1,num2,OP.front()))\n",
    "                OP.pop()\n",
    "            else:\n",
    "                if len(OP.top)==2:\n",
    "                    op = OP.pop()\n",
    "                    num2 = NUM.pop()\n",
    "                    num1 = NUM.pop()\n",
    "                    NUM.push(calculate(num1,num2,OP.front()))\n",
    "                    NUM.push(int(i))\n",
    "                    OP.pop()\n",
    "                    OP.push(op)\n",
    "                else:\n",
    "                    NUM.push(int(i))\n",
    "                    \n",
    "    if len(OP.top)==1:\n",
    "        num2 = NUM.pop()\n",
    "        num1 = NUM.pop()\n",
    "        NUM.push(calculate(num1,num2,OP.front()))\n",
    "        \n",
    "    print(\"계산식 출력: \"+userinput.replace(' ','')+\"=\"+str(NUM.front()))\n",
    "                    "
   ]
  }
 ],
 "metadata": {
  "kernelspec": {
   "display_name": "Python 3",
   "language": "python",
   "name": "python3"
  },
  "language_info": {
   "codemirror_mode": {
    "name": "ipython",
    "version": 3
   },
   "file_extension": ".py",
   "mimetype": "text/x-python",
   "name": "python",
   "nbconvert_exporter": "python",
   "pygments_lexer": "ipython3",
   "version": "3.8.2"
  }
 },
 "nbformat": 4,
 "nbformat_minor": 5
}
