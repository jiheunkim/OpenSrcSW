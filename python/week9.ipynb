{
 "cells": [
  {
   "cell_type": "code",
   "execution_count": 22,
   "id": "7f3c0d5c",
   "metadata": {},
   "outputs": [
    {
     "name": "stdout",
     "output_type": "stream",
     "text": [
      "x값 입력: 3\n",
      "y =  45\n"
     ]
    }
   ],
   "source": [
    "#실습1-1: x값 입력 받아 2차 방정식 y값 계산\n",
    "x = int(input(\"x값 입력: \"))\n",
    "y = 3*(x**2)+5*x+3\n",
    "print(\"y = \",y)"
   ]
  },
  {
   "cell_type": "code",
   "execution_count": 24,
   "id": "610ea525",
   "metadata": {},
   "outputs": [
    {
     "name": "stdout",
     "output_type": "stream",
     "text": [
      "반지름: 4\n",
      "원의 둘레:  25.12\n",
      "원의 넓이:  50.24\n"
     ]
    }
   ],
   "source": [
    "#실습1-2: 반지름 입력 받아 원의 둘레와 넓이 구하기\n",
    "r = int(input(\"반지름: \"))\n",
    "pie = 3.14\n",
    "circumference = 2*r*pie\n",
    "area = r*r*pie\n",
    "print(\"원의 둘레: \",circumference)\n",
    "print(\"원의 넓이: \",area)"
   ]
  },
  {
   "cell_type": "code",
   "execution_count": null,
   "id": "e7f0a367",
   "metadata": {},
   "outputs": [],
   "source": []
  }
 ],
 "metadata": {
  "kernelspec": {
   "display_name": "Python 3",
   "language": "python",
   "name": "python3"
  },
  "language_info": {
   "codemirror_mode": {
    "name": "ipython",
    "version": 3
   },
   "file_extension": ".py",
   "mimetype": "text/x-python",
   "name": "python",
   "nbconvert_exporter": "python",
   "pygments_lexer": "ipython3",
   "version": "3.8.2"
  }
 },
 "nbformat": 4,
 "nbformat_minor": 5
}
